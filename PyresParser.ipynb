{
 "cells": [
  {
   "cell_type": "code",
   "execution_count": 167,
   "metadata": {},
   "outputs": [],
   "source": [
    "from pyresparser import ResumeParser\n",
    "import pandas as pd\n",
    "import os\n",
    "import glob"
   ]
  },
  {
   "cell_type": "code",
   "execution_count": 168,
   "metadata": {},
   "outputs": [],
   "source": [
    "files = glob.glob('*.pdf')\n",
    "names = []\n",
    "email = []\n",
    "skills = []\n",
    "college_name = []\n",
    "Degree = []  \n",
    "Experience= []\n",
    "company_names= []\n",
    "total_experience= []\n",
    "Designation= []\n",
    "Mobile_number= []\n",
    "\n",
    "for file in files:\n",
    "    data = ResumeParser(file).get_extracted_data()\n",
    "    names.append(data['name'])\n",
    "    email.append(data['email'])\n",
    "    skills.append(data['skills'])\n",
    "    college_name.append(data['college_name'])\n",
    "    Degree.append(data['degree'])\n",
    "    Experience.append(data['experience'])\n",
    "    company_names.append(data['company_names'])\n",
    "    total_experience.append(data['total_experience'])\n",
    "    Designation.append(data['designation'])\n",
    "    Mobile_number.append(data['mobile_number'])\n",
    "    \n",
    "    resume = pd.DataFrame({'Names':names,'Email':email, 'skills':skills, 'college_name':college_name, 'Degree':Degree, 'Experience':Experience,'Company_name':company_names,'total_experience':total_experience,'Designation':Designation,'Mobile':Mobile_number,\n",
    "                              }) "
   ]
  },
  {
   "cell_type": "code",
   "execution_count": 169,
   "metadata": {},
   "outputs": [
    {
     "name": "stdout",
     "output_type": "stream",
     "text": [
      "                 Names                          Email  \\\n",
      "0         Diparth Shah             diparths@gmail.com   \n",
      "1        Yash Saraswat           yash112010@gmail.com   \n",
      "2   Smriti Shrivastava  shrivastavasmriti93@gmail.com   \n",
      "3      Akash Bhadouria     akashbhadouria85@gmail.com   \n",
      "4        Yash Saraswat           yash112010@gmail.com   \n",
      "5   Concorde Manhattan        aryansaini117@gmail.com   \n",
      "6       SANTHOSH NAYAK   nayak_santhosh78@yahoo.co.in   \n",
      "7        KRUTIKA BAGUL         krutika22kar@gmail.com   \n",
      "8       Akshit Agarwal            akshit312@gmail.com   \n",
      "9        KRUTIKA BAGUL         krutika22kar@gmail.com   \n",
      "10       Neha Wadhawan            nehaw0716@gmail.com   \n",
      "11       ADITYA ANUPAM        iamadityaseth@gmail.com   \n",
      "\n",
      "                                               skills college_name  \\\n",
      "0   [Api, Linux, Communication, Scripting, Wifi, S...         None   \n",
      "1   [Api, Communication, Cloud, Statistics, Python...         None   \n",
      "2   [Technical, Communication, English, Photograph...         None   \n",
      "3   [Api, Recruitment, Python, Design, Sql, Rest, ...         None   \n",
      "4   [Api, Communication, Cloud, Statistics, Python...         None   \n",
      "5   [Api, Technical, Linux, Process, Statistics, M...         None   \n",
      "6   [Compliance, Technical, Communication, Reporti...         None   \n",
      "7   [Technical, Usability, Communication, Erp, Php...         None   \n",
      "8   [Api, Python, Communication, Training, Rest, E...         None   \n",
      "9   [Technical, Usability, Communication, Erp, Php...         None   \n",
      "10  [Technical, Communication, English, Publishing...         None   \n",
      "11  [C++, Safety, Automation, Technical, Mobile, T...         None   \n",
      "\n",
      "                                               Degree  \\\n",
      "0                                                None   \n",
      "1                            [Bachelor of Technology]   \n",
      "2   [C.B.S.E., B. E.  \\n\\nElectronics & \\nCommunic...   \n",
      "3                                                None   \n",
      "4                            [Bachelor of Technology]   \n",
      "5                                                None   \n",
      "6   [Diploma, MBA in Operations from Madurai Kamar...   \n",
      "7                                                None   \n",
      "8                                                None   \n",
      "9                                                None   \n",
      "10                                               None   \n",
      "11                                               None   \n",
      "\n",
      "                                           Experience  \\\n",
      "0   [Google Summer of Code 2019, Software Develope...   \n",
      "1   [Visioneering Solutions Pvt. Ltd., Software En...   \n",
      "2   [Tata Consultancy Services Limited, Pune      ...   \n",
      "3                                                None   \n",
      "4   [Visioneering Solutions Pvt. Ltd., Software En...   \n",
      "5   [Sales and Marketing Team, 1 year, December 20...   \n",
      "6   [Since May’18 with Delta Electronics India  Pv...   \n",
      "7   [FINTECHNOBRIDGE SOLUTIONS PVT LTD., Pune, Ind...   \n",
      "8   [THE LNM INSTITUTE, OF INFORMATION, TECHNOLOGY...   \n",
      "9   [FINTECHNOBRIDGE SOLUTIONS PVT LTD., Pune, Ind...   \n",
      "10  [  Participating in preparing Test Plans.,  ...   \n",
      "11  [Company:    Reliance   Industries   Limited, ...   \n",
      "\n",
      "                                         Company_name  total_experience  \\\n",
      "0                                                None              0.00   \n",
      "1   [Visioneering Solutions Pvt. Ltd., GS Unite Pv...              1.58   \n",
      "2                 [Tata Consultancy Services Limited]              2.50   \n",
      "3                                                None              0.00   \n",
      "4   [Visioneering Solutions Pvt. Ltd., GS Unite Pv...              1.58   \n",
      "5                                                None              1.08   \n",
      "6                            [Udupi, India Pvt. Ltd.]              0.00   \n",
      "7        [FINTECHNOBRIDGE SOLUTIONS PVT LTD., Oracle]              1.92   \n",
      "8                                                None              1.00   \n",
      "9        [FINTECHNOBRIDGE SOLUTIONS PVT LTD., Oracle]              1.92   \n",
      "10                                               None              0.00   \n",
      "11                                               None              0.00   \n",
      "\n",
      "                                          Designation      Mobile  \n",
      "0                                                None  9821665400  \n",
      "1                                                None  8130986140  \n",
      "2                                   [System Engineer]  8830320465  \n",
      "3                                                None  7424947227  \n",
      "4                                                None  8130986140  \n",
      "5                                                None  7073527259  \n",
      "6   [Quality Engineer, Delta Electronics, Sr. Mana...  0973990414  \n",
      "7                                                None  7507234960  \n",
      "8                                                None  9571534499  \n",
      "9                                                None  7507234960  \n",
      "10            [Test Lead/Test Manager, Test Engineer]  8587052254  \n",
      "11                                               None  8789717115  \n"
     ]
    }
   ],
   "source": [
    "print(resume)"
   ]
  },
  {
   "cell_type": "code",
   "execution_count": 170,
   "metadata": {},
   "outputs": [],
   "source": [
    "resume.to_csv('sample.csv')"
   ]
  },
  {
   "cell_type": "code",
   "execution_count": null,
   "metadata": {},
   "outputs": [],
   "source": []
  }
 ],
 "metadata": {
  "kernelspec": {
   "display_name": "Python 3",
   "language": "python",
   "name": "python3"
  },
  "language_info": {
   "codemirror_mode": {
    "name": "ipython",
    "version": 3
   },
   "file_extension": ".py",
   "mimetype": "text/x-python",
   "name": "python",
   "nbconvert_exporter": "python",
   "pygments_lexer": "ipython3",
   "version": "3.7.3"
  }
 },
 "nbformat": 4,
 "nbformat_minor": 2
}
